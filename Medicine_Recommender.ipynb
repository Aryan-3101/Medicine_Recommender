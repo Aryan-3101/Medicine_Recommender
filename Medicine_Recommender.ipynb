{
 "cells": [
  {
   "cell_type": "markdown",
   "metadata": {},
   "source": [
    "<h1> Medicine Reccomender"
   ]
  },
  {
   "cell_type": "markdown",
   "metadata": {},
   "source": [
    "<h2> Step 1: Setup"
   ]
  },
  {
   "cell_type": "markdown",
   "metadata": {},
   "source": [
    "<h3><u> Importing Libraries"
   ]
  },
  {
   "cell_type": "code",
   "execution_count": 1,
   "metadata": {},
   "outputs": [],
   "source": [
    "import pandas as pd\n",
    "import numpy as np\n",
    "import seaborn as sns\n",
    "import matplotlib.pyplot as plt"
   ]
  },
  {
   "cell_type": "markdown",
   "metadata": {},
   "source": [
    "<h3><u> Loading Data\n"
   ]
  },
  {
   "cell_type": "code",
   "execution_count": 2,
   "metadata": {},
   "outputs": [
    {
     "data": {
      "text/html": [
       "<div>\n",
       "<style scoped>\n",
       "    .dataframe tbody tr th:only-of-type {\n",
       "        vertical-align: middle;\n",
       "    }\n",
       "\n",
       "    .dataframe tbody tr th {\n",
       "        vertical-align: top;\n",
       "    }\n",
       "\n",
       "    .dataframe thead th {\n",
       "        text-align: right;\n",
       "    }\n",
       "</style>\n",
       "<table border=\"1\" class=\"dataframe\">\n",
       "  <thead>\n",
       "    <tr style=\"text-align: right;\">\n",
       "      <th></th>\n",
       "      <th>id</th>\n",
       "      <th>name</th>\n",
       "      <th>price(₹)</th>\n",
       "      <th>Is_discontinued</th>\n",
       "      <th>manufacturer_name</th>\n",
       "      <th>type</th>\n",
       "      <th>pack_size_label</th>\n",
       "      <th>short_composition1</th>\n",
       "      <th>short_composition2</th>\n",
       "    </tr>\n",
       "  </thead>\n",
       "  <tbody>\n",
       "    <tr>\n",
       "      <th>0</th>\n",
       "      <td>1</td>\n",
       "      <td>Augmentin 625 Duo Tablet</td>\n",
       "      <td>223.42</td>\n",
       "      <td>False</td>\n",
       "      <td>Glaxo SmithKline Pharmaceuticals Ltd</td>\n",
       "      <td>allopathy</td>\n",
       "      <td>strip of 10 tablets</td>\n",
       "      <td>Amoxycillin  (500mg)</td>\n",
       "      <td>Clavulanic Acid (125mg)</td>\n",
       "    </tr>\n",
       "    <tr>\n",
       "      <th>1</th>\n",
       "      <td>2</td>\n",
       "      <td>Azithral 500 Tablet</td>\n",
       "      <td>132.36</td>\n",
       "      <td>False</td>\n",
       "      <td>Alembic Pharmaceuticals Ltd</td>\n",
       "      <td>allopathy</td>\n",
       "      <td>strip of 5 tablets</td>\n",
       "      <td>Azithromycin (500mg)</td>\n",
       "      <td>NaN</td>\n",
       "    </tr>\n",
       "    <tr>\n",
       "      <th>2</th>\n",
       "      <td>3</td>\n",
       "      <td>Ascoril LS Syrup</td>\n",
       "      <td>118.00</td>\n",
       "      <td>False</td>\n",
       "      <td>Glenmark Pharmaceuticals Ltd</td>\n",
       "      <td>allopathy</td>\n",
       "      <td>bottle of 100 ml Syrup</td>\n",
       "      <td>Ambroxol (30mg/5ml)</td>\n",
       "      <td>Levosalbutamol (1mg/5ml)</td>\n",
       "    </tr>\n",
       "    <tr>\n",
       "      <th>3</th>\n",
       "      <td>4</td>\n",
       "      <td>Allegra 120mg Tablet</td>\n",
       "      <td>218.81</td>\n",
       "      <td>False</td>\n",
       "      <td>Sanofi India  Ltd</td>\n",
       "      <td>allopathy</td>\n",
       "      <td>strip of 10 tablets</td>\n",
       "      <td>Fexofenadine (120mg)</td>\n",
       "      <td>NaN</td>\n",
       "    </tr>\n",
       "    <tr>\n",
       "      <th>4</th>\n",
       "      <td>5</td>\n",
       "      <td>Avil 25 Tablet</td>\n",
       "      <td>10.96</td>\n",
       "      <td>False</td>\n",
       "      <td>Sanofi India  Ltd</td>\n",
       "      <td>allopathy</td>\n",
       "      <td>strip of 15 tablets</td>\n",
       "      <td>Pheniramine (25mg)</td>\n",
       "      <td>NaN</td>\n",
       "    </tr>\n",
       "    <tr>\n",
       "      <th>5</th>\n",
       "      <td>6</td>\n",
       "      <td>Allegra-M Tablet</td>\n",
       "      <td>241.48</td>\n",
       "      <td>False</td>\n",
       "      <td>Sanofi India  Ltd</td>\n",
       "      <td>allopathy</td>\n",
       "      <td>strip of 10 tablets</td>\n",
       "      <td>Montelukast (10mg)</td>\n",
       "      <td>Fexofenadine (120mg)</td>\n",
       "    </tr>\n",
       "    <tr>\n",
       "      <th>6</th>\n",
       "      <td>7</td>\n",
       "      <td>Amoxyclav 625 Tablet</td>\n",
       "      <td>223.27</td>\n",
       "      <td>False</td>\n",
       "      <td>Abbott</td>\n",
       "      <td>allopathy</td>\n",
       "      <td>strip of 10 tablets</td>\n",
       "      <td>Amoxycillin  (500mg)</td>\n",
       "      <td>Clavulanic Acid (125mg)</td>\n",
       "    </tr>\n",
       "    <tr>\n",
       "      <th>7</th>\n",
       "      <td>8</td>\n",
       "      <td>Azee 500 Tablet</td>\n",
       "      <td>132.38</td>\n",
       "      <td>False</td>\n",
       "      <td>Cipla Ltd</td>\n",
       "      <td>allopathy</td>\n",
       "      <td>strip of 5 tablets</td>\n",
       "      <td>Azithromycin (500mg)</td>\n",
       "      <td>NaN</td>\n",
       "    </tr>\n",
       "    <tr>\n",
       "      <th>8</th>\n",
       "      <td>9</td>\n",
       "      <td>Atarax 25mg Tablet</td>\n",
       "      <td>85.50</td>\n",
       "      <td>False</td>\n",
       "      <td>Dr Reddy's Laboratories Ltd</td>\n",
       "      <td>allopathy</td>\n",
       "      <td>strip of 15 tablets</td>\n",
       "      <td>Hydroxyzine (25mg)</td>\n",
       "      <td>NaN</td>\n",
       "    </tr>\n",
       "    <tr>\n",
       "      <th>9</th>\n",
       "      <td>10</td>\n",
       "      <td>Ascoril D Plus Syrup Sugar Free</td>\n",
       "      <td>129.00</td>\n",
       "      <td>False</td>\n",
       "      <td>Glenmark Pharmaceuticals Ltd</td>\n",
       "      <td>allopathy</td>\n",
       "      <td>bottle of 100 ml Syrup</td>\n",
       "      <td>Phenylephrine (5mg)</td>\n",
       "      <td>Chlorpheniramine Maleate (2mg)</td>\n",
       "    </tr>\n",
       "  </tbody>\n",
       "</table>\n",
       "</div>"
      ],
      "text/plain": [
       "   id                             name  price(₹)  Is_discontinued  \\\n",
       "0   1         Augmentin 625 Duo Tablet    223.42            False   \n",
       "1   2              Azithral 500 Tablet    132.36            False   \n",
       "2   3                 Ascoril LS Syrup    118.00            False   \n",
       "3   4             Allegra 120mg Tablet    218.81            False   \n",
       "4   5                   Avil 25 Tablet     10.96            False   \n",
       "5   6                 Allegra-M Tablet    241.48            False   \n",
       "6   7             Amoxyclav 625 Tablet    223.27            False   \n",
       "7   8                  Azee 500 Tablet    132.38            False   \n",
       "8   9               Atarax 25mg Tablet     85.50            False   \n",
       "9  10  Ascoril D Plus Syrup Sugar Free    129.00            False   \n",
       "\n",
       "                      manufacturer_name       type         pack_size_label  \\\n",
       "0  Glaxo SmithKline Pharmaceuticals Ltd  allopathy     strip of 10 tablets   \n",
       "1           Alembic Pharmaceuticals Ltd  allopathy      strip of 5 tablets   \n",
       "2          Glenmark Pharmaceuticals Ltd  allopathy  bottle of 100 ml Syrup   \n",
       "3                     Sanofi India  Ltd  allopathy     strip of 10 tablets   \n",
       "4                     Sanofi India  Ltd  allopathy     strip of 15 tablets   \n",
       "5                     Sanofi India  Ltd  allopathy     strip of 10 tablets   \n",
       "6                                Abbott  allopathy     strip of 10 tablets   \n",
       "7                             Cipla Ltd  allopathy      strip of 5 tablets   \n",
       "8           Dr Reddy's Laboratories Ltd  allopathy     strip of 15 tablets   \n",
       "9          Glenmark Pharmaceuticals Ltd  allopathy  bottle of 100 ml Syrup   \n",
       "\n",
       "      short_composition1                short_composition2  \n",
       "0  Amoxycillin  (500mg)            Clavulanic Acid (125mg)  \n",
       "1   Azithromycin (500mg)                               NaN  \n",
       "2   Ambroxol (30mg/5ml)          Levosalbutamol (1mg/5ml)   \n",
       "3   Fexofenadine (120mg)                               NaN  \n",
       "4     Pheniramine (25mg)                               NaN  \n",
       "5    Montelukast (10mg)               Fexofenadine (120mg)  \n",
       "6  Amoxycillin  (500mg)            Clavulanic Acid (125mg)  \n",
       "7   Azithromycin (500mg)                               NaN  \n",
       "8     Hydroxyzine (25mg)                               NaN  \n",
       "9   Phenylephrine (5mg)    Chlorpheniramine Maleate (2mg)   "
      ]
     },
     "execution_count": 2,
     "metadata": {},
     "output_type": "execute_result"
    }
   ],
   "source": [
    "data = pd.read_csv(\"Medicine Dataset.csv\")\n",
    "data.head(10)"
   ]
  },
  {
   "cell_type": "markdown",
   "metadata": {},
   "source": [
    "<h2> Step 2: Data Analysis"
   ]
  },
  {
   "cell_type": "code",
   "execution_count": 54,
   "metadata": {},
   "outputs": [
    {
     "name": "stdout",
     "output_type": "stream",
     "text": [
      "<class 'pandas.core.frame.DataFrame'>\n",
      "RangeIndex: 253973 entries, 0 to 253972\n",
      "Data columns (total 9 columns):\n",
      " #   Column              Non-Null Count   Dtype  \n",
      "---  ------              --------------   -----  \n",
      " 0   id                  253973 non-null  int64  \n",
      " 1   name                253973 non-null  object \n",
      " 2   price(₹)            253973 non-null  float64\n",
      " 3   Is_discontinued     253973 non-null  bool   \n",
      " 4   manufacturer_name   253973 non-null  object \n",
      " 5   type                253973 non-null  object \n",
      " 6   pack_size_label     253973 non-null  object \n",
      " 7   short_composition1  253973 non-null  object \n",
      " 8   short_composition2  112171 non-null  object \n",
      "dtypes: bool(1), float64(1), int64(1), object(6)\n",
      "memory usage: 15.7+ MB\n"
     ]
    }
   ],
   "source": [
    "data.info()"
   ]
  },
  {
   "cell_type": "code",
   "execution_count": 55,
   "metadata": {},
   "outputs": [
    {
     "data": {
      "text/plain": [
       "id                    253973\n",
       "name                  249398\n",
       "price(₹)               20664\n",
       "Is_discontinued            2\n",
       "manufacturer_name       7648\n",
       "type                       1\n",
       "pack_size_label         1929\n",
       "short_composition1      8523\n",
       "short_composition2      2980\n",
       "dtype: int64"
      ]
     },
     "execution_count": 55,
     "metadata": {},
     "output_type": "execute_result"
    }
   ],
   "source": [
    "#unique values\n",
    "data.nunique()"
   ]
  },
  {
   "cell_type": "code",
   "execution_count": 56,
   "metadata": {},
   "outputs": [
    {
     "data": {
      "text/plain": [
       "id                         0\n",
       "name                       0\n",
       "price(₹)                   0\n",
       "Is_discontinued            0\n",
       "manufacturer_name          0\n",
       "type                       0\n",
       "pack_size_label            0\n",
       "short_composition1         0\n",
       "short_composition2    141802\n",
       "dtype: int64"
      ]
     },
     "execution_count": 56,
     "metadata": {},
     "output_type": "execute_result"
    }
   ],
   "source": [
    "#missing values\n",
    "data.isnull().sum()"
   ]
  },
  {
   "cell_type": "code",
   "execution_count": 57,
   "metadata": {},
   "outputs": [],
   "source": [
    "#dropping type column as it has just 1 value, i.e. allopathy\n",
    "#dropping id as no need of that\n",
    "data = data.drop(columns=['type', 'id'])"
   ]
  },
  {
   "cell_type": "code",
   "execution_count": 58,
   "metadata": {},
   "outputs": [],
   "source": [
    "#Filtering data to just keep the medicines that are not discontinued\n",
    "data = data[data['Is_discontinued'] == False]\n",
    "\n",
    "#We can drop the Id_discontinued column now\n",
    "data = data.drop(columns='Is_discontinued')"
   ]
  },
  {
   "cell_type": "code",
   "execution_count": 59,
   "metadata": {},
   "outputs": [
    {
     "data": {
      "text/html": [
       "<div>\n",
       "<style scoped>\n",
       "    .dataframe tbody tr th:only-of-type {\n",
       "        vertical-align: middle;\n",
       "    }\n",
       "\n",
       "    .dataframe tbody tr th {\n",
       "        vertical-align: top;\n",
       "    }\n",
       "\n",
       "    .dataframe thead th {\n",
       "        text-align: right;\n",
       "    }\n",
       "</style>\n",
       "<table border=\"1\" class=\"dataframe\">\n",
       "  <thead>\n",
       "    <tr style=\"text-align: right;\">\n",
       "      <th></th>\n",
       "      <th>name</th>\n",
       "      <th>price(₹)</th>\n",
       "      <th>manufacturer_name</th>\n",
       "      <th>pack_size_label</th>\n",
       "      <th>short_composition1</th>\n",
       "      <th>short_composition2</th>\n",
       "    </tr>\n",
       "  </thead>\n",
       "  <tbody>\n",
       "    <tr>\n",
       "      <th>0</th>\n",
       "      <td>Augmentin 625 Duo Tablet</td>\n",
       "      <td>223.42</td>\n",
       "      <td>Glaxo SmithKline Pharmaceuticals Ltd</td>\n",
       "      <td>strip of 10 tablets</td>\n",
       "      <td>Amoxycillin  (500mg)</td>\n",
       "      <td>Clavulanic Acid (125mg)</td>\n",
       "    </tr>\n",
       "    <tr>\n",
       "      <th>1</th>\n",
       "      <td>Azithral 500 Tablet</td>\n",
       "      <td>132.36</td>\n",
       "      <td>Alembic Pharmaceuticals Ltd</td>\n",
       "      <td>strip of 5 tablets</td>\n",
       "      <td>Azithromycin (500mg)</td>\n",
       "      <td>NaN</td>\n",
       "    </tr>\n",
       "    <tr>\n",
       "      <th>2</th>\n",
       "      <td>Ascoril LS Syrup</td>\n",
       "      <td>118.00</td>\n",
       "      <td>Glenmark Pharmaceuticals Ltd</td>\n",
       "      <td>bottle of 100 ml Syrup</td>\n",
       "      <td>Ambroxol (30mg/5ml)</td>\n",
       "      <td>Levosalbutamol (1mg/5ml)</td>\n",
       "    </tr>\n",
       "    <tr>\n",
       "      <th>3</th>\n",
       "      <td>Allegra 120mg Tablet</td>\n",
       "      <td>218.81</td>\n",
       "      <td>Sanofi India  Ltd</td>\n",
       "      <td>strip of 10 tablets</td>\n",
       "      <td>Fexofenadine (120mg)</td>\n",
       "      <td>NaN</td>\n",
       "    </tr>\n",
       "    <tr>\n",
       "      <th>4</th>\n",
       "      <td>Avil 25 Tablet</td>\n",
       "      <td>10.96</td>\n",
       "      <td>Sanofi India  Ltd</td>\n",
       "      <td>strip of 15 tablets</td>\n",
       "      <td>Pheniramine (25mg)</td>\n",
       "      <td>NaN</td>\n",
       "    </tr>\n",
       "    <tr>\n",
       "      <th>5</th>\n",
       "      <td>Allegra-M Tablet</td>\n",
       "      <td>241.48</td>\n",
       "      <td>Sanofi India  Ltd</td>\n",
       "      <td>strip of 10 tablets</td>\n",
       "      <td>Montelukast (10mg)</td>\n",
       "      <td>Fexofenadine (120mg)</td>\n",
       "    </tr>\n",
       "    <tr>\n",
       "      <th>6</th>\n",
       "      <td>Amoxyclav 625 Tablet</td>\n",
       "      <td>223.27</td>\n",
       "      <td>Abbott</td>\n",
       "      <td>strip of 10 tablets</td>\n",
       "      <td>Amoxycillin  (500mg)</td>\n",
       "      <td>Clavulanic Acid (125mg)</td>\n",
       "    </tr>\n",
       "    <tr>\n",
       "      <th>7</th>\n",
       "      <td>Azee 500 Tablet</td>\n",
       "      <td>132.38</td>\n",
       "      <td>Cipla Ltd</td>\n",
       "      <td>strip of 5 tablets</td>\n",
       "      <td>Azithromycin (500mg)</td>\n",
       "      <td>NaN</td>\n",
       "    </tr>\n",
       "    <tr>\n",
       "      <th>8</th>\n",
       "      <td>Atarax 25mg Tablet</td>\n",
       "      <td>85.50</td>\n",
       "      <td>Dr Reddy's Laboratories Ltd</td>\n",
       "      <td>strip of 15 tablets</td>\n",
       "      <td>Hydroxyzine (25mg)</td>\n",
       "      <td>NaN</td>\n",
       "    </tr>\n",
       "    <tr>\n",
       "      <th>9</th>\n",
       "      <td>Ascoril D Plus Syrup Sugar Free</td>\n",
       "      <td>129.00</td>\n",
       "      <td>Glenmark Pharmaceuticals Ltd</td>\n",
       "      <td>bottle of 100 ml Syrup</td>\n",
       "      <td>Phenylephrine (5mg)</td>\n",
       "      <td>Chlorpheniramine Maleate (2mg)</td>\n",
       "    </tr>\n",
       "  </tbody>\n",
       "</table>\n",
       "</div>"
      ],
      "text/plain": [
       "                              name  price(₹)  \\\n",
       "0         Augmentin 625 Duo Tablet    223.42   \n",
       "1              Azithral 500 Tablet    132.36   \n",
       "2                 Ascoril LS Syrup    118.00   \n",
       "3             Allegra 120mg Tablet    218.81   \n",
       "4                   Avil 25 Tablet     10.96   \n",
       "5                 Allegra-M Tablet    241.48   \n",
       "6             Amoxyclav 625 Tablet    223.27   \n",
       "7                  Azee 500 Tablet    132.38   \n",
       "8               Atarax 25mg Tablet     85.50   \n",
       "9  Ascoril D Plus Syrup Sugar Free    129.00   \n",
       "\n",
       "                      manufacturer_name         pack_size_label  \\\n",
       "0  Glaxo SmithKline Pharmaceuticals Ltd     strip of 10 tablets   \n",
       "1           Alembic Pharmaceuticals Ltd      strip of 5 tablets   \n",
       "2          Glenmark Pharmaceuticals Ltd  bottle of 100 ml Syrup   \n",
       "3                     Sanofi India  Ltd     strip of 10 tablets   \n",
       "4                     Sanofi India  Ltd     strip of 15 tablets   \n",
       "5                     Sanofi India  Ltd     strip of 10 tablets   \n",
       "6                                Abbott     strip of 10 tablets   \n",
       "7                             Cipla Ltd      strip of 5 tablets   \n",
       "8           Dr Reddy's Laboratories Ltd     strip of 15 tablets   \n",
       "9          Glenmark Pharmaceuticals Ltd  bottle of 100 ml Syrup   \n",
       "\n",
       "      short_composition1                short_composition2  \n",
       "0  Amoxycillin  (500mg)            Clavulanic Acid (125mg)  \n",
       "1   Azithromycin (500mg)                               NaN  \n",
       "2   Ambroxol (30mg/5ml)          Levosalbutamol (1mg/5ml)   \n",
       "3   Fexofenadine (120mg)                               NaN  \n",
       "4     Pheniramine (25mg)                               NaN  \n",
       "5    Montelukast (10mg)               Fexofenadine (120mg)  \n",
       "6  Amoxycillin  (500mg)            Clavulanic Acid (125mg)  \n",
       "7   Azithromycin (500mg)                               NaN  \n",
       "8     Hydroxyzine (25mg)                               NaN  \n",
       "9   Phenylephrine (5mg)    Chlorpheniramine Maleate (2mg)   "
      ]
     },
     "execution_count": 59,
     "metadata": {},
     "output_type": "execute_result"
    }
   ],
   "source": [
    "data.head(10)"
   ]
  },
  {
   "cell_type": "code",
   "execution_count": 60,
   "metadata": {},
   "outputs": [],
   "source": [
    "#Handling pack size\n",
    "from collections import Counter\n",
    "count = Counter()\n",
    "\n",
    "def to_singular(word):\n",
    "    if word.endswith('s') and len(word) > 1:\n",
    "        return word[:-1]\n",
    "    else:\n",
    "        return word\n",
    "\n",
    "for label in data['pack_size_label']:\n",
    "    words = label.split()\n",
    "    x = words[-1].lower()\n",
    "\n",
    "    if len(x) < 3:\n",
    "        x = words[-2].lower()\n",
    "    x = to_singular(x)\n",
    "    count[x] += 1\n",
    "\n",
    "forms = dict(count.most_common())"
   ]
  },
  {
   "cell_type": "code",
   "execution_count": 61,
   "metadata": {},
   "outputs": [
    {
     "name": "stdout",
     "output_type": "stream",
     "text": [
      "{'tablet': 147911, 'injection': 31057, 'capsule': 21438, 'syrup': 16415, 'suspension': 9023, 'drop': 5085, 'cream': 4867, 'solution': 1634, 'gel': 1581, 'ointment': 1574, 'lotion': 990, 'infusion': 837, 'soap': 515, 'powder': 344, 'spray': 331, 'expectorant': 321, 'shampoo': 262, 'kit': 229, 'inhaler': 211, 'wash': 193, 'liquid': 140, 'granule': 115, 'respule': 111, 'suppositorie': 70, 'strip': 62, 'sachet': 58, 'rotacap': 51, 'gargle': 51, 'patche': 47, 'suppository': 32, 'paint': 32, 'inhalation': 28, 'syringe': 27, 'respicap': 24, 'emulsion': 23, 'transcap': 23, 'lozenge': 21, 'linctu': 19, 'pessarie': 18, 'transhaler': 18, 'paste': 17, 'bottle': 17, 'combikit': 17, 'toothpaste': 16, 'patch': 16, 'gum': 14, 'transpule': 11, 'combipack': 9, 'scrub': 9, 'serum': 9, 'jelly': 8, 'lacquer': 7, 'tabcap': 7, 'enema': 7, 'husk': 6, 'liniment': 6, 'cartrige': 6, 'instacap': 5, 'caplet': 5, 'redicap': 5, 'pastille': 4, 'elixir': 4, 'foam': 4, 'nexcap': 4, 'pellet': 4, 'pouch': 4, 'bar': 3, 'particle': 3, 'oil': 3, 'autohaler': 3, 'novocart': 3, 'unit': 3, 'oxycap': 3, 'bio-adhesive': 2, 'gummie': 2, 'pen': 2, 'oxipule': 2, 'bandage': 2, 'diskette': 2, 'conditioner': 2, 'pack': 2, 'opticop': 2, 'op': 2, 'vaccine': 2, 'grain': 2, 'captab': 1, 'nebuliser': 1, 'cartridge': 1, 'cleanser': 1, 'multihaler': 1, 'film': 1, 'system': 1, 'ampule': 1, 'aerosol': 1, 'rapitab': 1, 'tube': 1, 'alicap': 1, 'vial': 1, 'tonic': 1}\n"
     ]
    }
   ],
   "source": [
    "print(forms)"
   ]
  },
  {
   "cell_type": "code",
   "execution_count": 62,
   "metadata": {},
   "outputs": [],
   "source": [
    "def getType(row):  \n",
    "    for type in forms:\n",
    "        if type in row['pack_size_label'].lower():\n",
    "            return type  \n",
    "\n",
    "data['type'] = data.apply(getType, axis= 1)"
   ]
  },
  {
   "cell_type": "code",
   "execution_count": 63,
   "metadata": {},
   "outputs": [
    {
     "data": {
      "text/plain": [
       "array(['tablet', 'syrup', 'cream', 'suspension', 'capsule', 'inhaler',\n",
       "       'injection', 'expectorant', 'strip', 'respule', 'drop', 'kit',\n",
       "       'spray', 'gel', 'solution', 'infusion', 'lotion', 'ointment',\n",
       "       'rotacap', 'bottle', 'granule', 'liquid', 'sachet', 'instacap',\n",
       "       'soap', 'suppositorie', 'powder', 'paste', 'pastille', 'shampoo',\n",
       "       'pessarie', 'bio-adhesive', 'bar', 'wash', 'gargle', 'linctu',\n",
       "       'emulsion', 'syringe', 'gum', 'transhaler', 'transcap', 'patche',\n",
       "       'transpule', 'scrub', 'jelly', 'patch', 'nebuliser', 'pack', 'pen',\n",
       "       'oxipule', 'paint', 'suppository', 'lozenge', 'redicap',\n",
       "       'respicap', 'system', 'autohaler', 'bandage', 'novocart',\n",
       "       'diskette', 'cartrige', 'husk', 'nexcap', 'conditioner', 'enema',\n",
       "       'unit', 'vaccine', 'vial', 'pellet', 'oxycap', 'pouch'],\n",
       "      dtype=object)"
      ]
     },
     "execution_count": 63,
     "metadata": {},
     "output_type": "execute_result"
    }
   ],
   "source": [
    "data['type'].unique()"
   ]
  },
  {
   "cell_type": "code",
   "execution_count": 64,
   "metadata": {},
   "outputs": [],
   "source": [
    "missingdata = data['type'].isnull()"
   ]
  },
  {
   "cell_type": "code",
   "execution_count": 65,
   "metadata": {},
   "outputs": [],
   "source": [
    "data['primary_comp'] = data['short_composition1'].str.split('(').str[0].str.lower().str.rstrip()\n",
    "data['value'] = data['short_composition1'].str.split('(').str[1].str.lower().str.rstrip().str.rstrip(')').fillna('')\n",
    "\n",
    "data['entire_comp'] = data['primary_comp'] + ' ' + data['short_composition2'].fillna('').str.split('(').str[0].str.lower().str.rstrip()\n",
    "data['entire_value'] = data['value'] + ' ' + data['short_composition2'].fillna('').str.split('(').str[1].str.lower().str.rstrip().str.rstrip(')').fillna('')"
   ]
  },
  {
   "cell_type": "code",
   "execution_count": 67,
   "metadata": {},
   "outputs": [
    {
     "data": {
      "text/html": [
       "<div>\n",
       "<style scoped>\n",
       "    .dataframe tbody tr th:only-of-type {\n",
       "        vertical-align: middle;\n",
       "    }\n",
       "\n",
       "    .dataframe tbody tr th {\n",
       "        vertical-align: top;\n",
       "    }\n",
       "\n",
       "    .dataframe thead th {\n",
       "        text-align: right;\n",
       "    }\n",
       "</style>\n",
       "<table border=\"1\" class=\"dataframe\">\n",
       "  <thead>\n",
       "    <tr style=\"text-align: right;\">\n",
       "      <th></th>\n",
       "      <th>name</th>\n",
       "      <th>price(₹)</th>\n",
       "      <th>manufacturer_name</th>\n",
       "      <th>type</th>\n",
       "      <th>primary_comp</th>\n",
       "      <th>value</th>\n",
       "      <th>entire_comp</th>\n",
       "      <th>entire_value</th>\n",
       "    </tr>\n",
       "  </thead>\n",
       "  <tbody>\n",
       "    <tr>\n",
       "      <th>0</th>\n",
       "      <td>Augmentin 625 Duo Tablet</td>\n",
       "      <td>223.42</td>\n",
       "      <td>Glaxo SmithKline Pharmaceuticals Ltd</td>\n",
       "      <td>tablet</td>\n",
       "      <td>amoxycillin</td>\n",
       "      <td>500mg</td>\n",
       "      <td>amoxycillin   clavulanic acid</td>\n",
       "      <td>500mg 125mg</td>\n",
       "    </tr>\n",
       "    <tr>\n",
       "      <th>1</th>\n",
       "      <td>Azithral 500 Tablet</td>\n",
       "      <td>132.36</td>\n",
       "      <td>Alembic Pharmaceuticals Ltd</td>\n",
       "      <td>tablet</td>\n",
       "      <td>azithromycin</td>\n",
       "      <td>500mg</td>\n",
       "      <td>azithromycin</td>\n",
       "      <td>500mg</td>\n",
       "    </tr>\n",
       "    <tr>\n",
       "      <th>2</th>\n",
       "      <td>Ascoril LS Syrup</td>\n",
       "      <td>118.00</td>\n",
       "      <td>Glenmark Pharmaceuticals Ltd</td>\n",
       "      <td>syrup</td>\n",
       "      <td>ambroxol</td>\n",
       "      <td>30mg/5ml</td>\n",
       "      <td>ambroxol  levosalbutamol</td>\n",
       "      <td>30mg/5ml 1mg/5ml</td>\n",
       "    </tr>\n",
       "    <tr>\n",
       "      <th>3</th>\n",
       "      <td>Allegra 120mg Tablet</td>\n",
       "      <td>218.81</td>\n",
       "      <td>Sanofi India  Ltd</td>\n",
       "      <td>tablet</td>\n",
       "      <td>fexofenadine</td>\n",
       "      <td>120mg</td>\n",
       "      <td>fexofenadine</td>\n",
       "      <td>120mg</td>\n",
       "    </tr>\n",
       "    <tr>\n",
       "      <th>4</th>\n",
       "      <td>Avil 25 Tablet</td>\n",
       "      <td>10.96</td>\n",
       "      <td>Sanofi India  Ltd</td>\n",
       "      <td>tablet</td>\n",
       "      <td>pheniramine</td>\n",
       "      <td>25mg</td>\n",
       "      <td>pheniramine</td>\n",
       "      <td>25mg</td>\n",
       "    </tr>\n",
       "  </tbody>\n",
       "</table>\n",
       "</div>"
      ],
      "text/plain": [
       "                       name  price(₹)                     manufacturer_name  \\\n",
       "0  Augmentin 625 Duo Tablet    223.42  Glaxo SmithKline Pharmaceuticals Ltd   \n",
       "1       Azithral 500 Tablet    132.36           Alembic Pharmaceuticals Ltd   \n",
       "2          Ascoril LS Syrup    118.00          Glenmark Pharmaceuticals Ltd   \n",
       "3      Allegra 120mg Tablet    218.81                     Sanofi India  Ltd   \n",
       "4            Avil 25 Tablet     10.96                     Sanofi India  Ltd   \n",
       "\n",
       "     type  primary_comp     value                    entire_comp  \\\n",
       "0  tablet   amoxycillin     500mg  amoxycillin   clavulanic acid   \n",
       "1  tablet  azithromycin     500mg                  azithromycin    \n",
       "2   syrup      ambroxol  30mg/5ml       ambroxol  levosalbutamol   \n",
       "3  tablet  fexofenadine     120mg                  fexofenadine    \n",
       "4  tablet   pheniramine      25mg                   pheniramine    \n",
       "\n",
       "       entire_value  \n",
       "0       500mg 125mg  \n",
       "1            500mg   \n",
       "2  30mg/5ml 1mg/5ml  \n",
       "3            120mg   \n",
       "4             25mg   "
      ]
     },
     "execution_count": 67,
     "metadata": {},
     "output_type": "execute_result"
    }
   ],
   "source": [
    "data = data.drop(columns= ['pack_size_label', 'short_composition1', 'short_composition2'])\n",
    "data.head()"
   ]
  },
  {
   "cell_type": "code",
   "execution_count": 86,
   "metadata": {},
   "outputs": [
    {
     "data": {
      "image/png": "[encoded data removed]",
      "text/plain": [
       "<Figure size 640x480 with 1 Axes>"
      ]
     },
     "metadata": {},
     "output_type": "display_data"
    }
   ],
   "source": [
    "#visualizations\n",
    "plt.figure()\n",
    "manufacturer_freq = data['manufacturer_name'].value_counts()[:11].reset_index()\n",
    "sns.barplot(manufacturer_freq, x='manufacturer_name', y='count', palette='icefire', hue='manufacturer_name')\n",
    "plt.xlabel('Manufacture Name',)\n",
    "plt.ylabel('Count')\n",
    "plt.title('Top 10 Manufacturers')\n",
    "plt.xticks(rotation=90)\n",
    "plt.show()"
   ]
  },
  {
   "cell_type": "code",
   "execution_count": 84,
   "metadata": {},
   "outputs": [
    {
     "data": {
      "image/png": "[encoded data removed]",
      "text/plain": [
       "<Figure size 640x480 with 1 Axes>"
      ]
     },
     "metadata": {},
     "output_type": "display_data"
    }
   ],
   "source": [
    "plt.figure()\n",
    "type_freq = data['type'].value_counts()[:11].reset_index()\n",
    "sns.barplot(type_freq, x='type', y='count', palette='plasma', hue='type')\n",
    "plt.xlabel('Type',)\n",
    "plt.ylabel('Count')\n",
    "plt.title('Top 10 Types')\n",
    "plt.xticks(rotation=45)\n",
    "plt.show()"
   ]
  },
  {
   "cell_type": "code",
   "execution_count": 83,
   "metadata": {},
   "outputs": [
    {
     "data": {
      "image/png": "[encoded data removed]",
      "text/plain": [
       "<Figure size 640x480 with 1 Axes>"
      ]
     },
     "metadata": {},
     "output_type": "display_data"
    }
   ],
   "source": [
    "plt.figure()\n",
    "prim_comp_freq = data['primary_comp'].value_counts()[:11].reset_index()\n",
    "sns.barplot(prim_comp_freq, x='primary_comp', y='count', palette='magma', hue='primary_comp')\n",
    "plt.xlabel('Primary Composition')\n",
    "plt.ylabel('Count')\n",
    "plt.title('Top 10 primary compositions')\n",
    "plt.xticks(rotation=45)\n",
    "plt.show()"
   ]
  },
  {
   "cell_type": "code",
   "execution_count": 87,
   "metadata": {},
   "outputs": [
    {
     "data": {
      "text/plain": [
       "Index(['name', 'price(₹)', 'manufacturer_name', 'type', 'primary_comp',\n",
       "       'value', 'entire_comp', 'entire_value'],\n",
       "      dtype='object')"
      ]
     },
     "execution_count": 87,
     "metadata": {},
     "output_type": "execute_result"
    }
   ],
   "source": [
    "data.columns"
   ]
  },
  {
   "cell_type": "code",
   "execution_count": 89,
   "metadata": {},
   "outputs": [],
   "source": [
    "#Label encoding\n",
    "from sklearn.preprocessing import LabelEncoder\n",
    "\n",
    "columns_to_encode = ['manufacturer_name', 'type', 'primary_comp',\n",
    "       'value', 'entire_comp', 'entire_value']\n",
    "\n",
    "label_encoders = {}\n",
    "\n",
    "for column in columns_to_encode:\n",
    "    le = LabelEncoder()\n",
    "    data[column + '_encoded'] = le.fit_transform(data[column])\n",
    "    label_encoders[column] = le\n"
   ]
  },
  {
   "cell_type": "code",
   "execution_count": 91,
   "metadata": {},
   "outputs": [
    {
     "data": {
      "text/html": [
       "<div>\n",
       "<style scoped>\n",
       "    .dataframe tbody tr th:only-of-type {\n",
       "        vertical-align: middle;\n",
       "    }\n",
       "\n",
       "    .dataframe tbody tr th {\n",
       "        vertical-align: top;\n",
       "    }\n",
       "\n",
       "    .dataframe thead th {\n",
       "        text-align: right;\n",
       "    }\n",
       "</style>\n",
       "<table border=\"1\" class=\"dataframe\">\n",
       "  <thead>\n",
       "    <tr style=\"text-align: right;\">\n",
       "      <th></th>\n",
       "      <th>name</th>\n",
       "      <th>price(₹)</th>\n",
       "      <th>manufacturer_name</th>\n",
       "      <th>type</th>\n",
       "      <th>primary_comp</th>\n",
       "      <th>value</th>\n",
       "      <th>entire_comp</th>\n",
       "      <th>entire_value</th>\n",
       "      <th>manufacturer_name_encoded</th>\n",
       "      <th>type_encoded</th>\n",
       "      <th>primary_comp_encoded</th>\n",
       "      <th>value_encoded</th>\n",
       "      <th>entire_comp_encoded</th>\n",
       "      <th>entire_value_encoded</th>\n",
       "    </tr>\n",
       "  </thead>\n",
       "  <tbody>\n",
       "    <tr>\n",
       "      <th>0</th>\n",
       "      <td>Augmentin 625 Duo Tablet</td>\n",
       "      <td>223.42</td>\n",
       "      <td>Glaxo SmithKline Pharmaceuticals Ltd</td>\n",
       "      <td>tablet</td>\n",
       "      <td>amoxycillin</td>\n",
       "      <td>500mg</td>\n",
       "      <td>amoxycillin   clavulanic acid</td>\n",
       "      <td>500mg 125mg</td>\n",
       "      <td>2763</td>\n",
       "      <td>63</td>\n",
       "      <td>76</td>\n",
       "      <td>904</td>\n",
       "      <td>185</td>\n",
       "      <td>2828</td>\n",
       "    </tr>\n",
       "    <tr>\n",
       "      <th>1</th>\n",
       "      <td>Azithral 500 Tablet</td>\n",
       "      <td>132.36</td>\n",
       "      <td>Alembic Pharmaceuticals Ltd</td>\n",
       "      <td>tablet</td>\n",
       "      <td>azithromycin</td>\n",
       "      <td>500mg</td>\n",
       "      <td>azithromycin</td>\n",
       "      <td>500mg</td>\n",
       "      <td>356</td>\n",
       "      <td>63</td>\n",
       "      <td>121</td>\n",
       "      <td>904</td>\n",
       "      <td>297</td>\n",
       "      <td>2815</td>\n",
       "    </tr>\n",
       "    <tr>\n",
       "      <th>2</th>\n",
       "      <td>Ascoril LS Syrup</td>\n",
       "      <td>118.00</td>\n",
       "      <td>Glenmark Pharmaceuticals Ltd</td>\n",
       "      <td>syrup</td>\n",
       "      <td>ambroxol</td>\n",
       "      <td>30mg/5ml</td>\n",
       "      <td>ambroxol  levosalbutamol</td>\n",
       "      <td>30mg/5ml 1mg/5ml</td>\n",
       "      <td>2770</td>\n",
       "      <td>61</td>\n",
       "      <td>60</td>\n",
       "      <td>733</td>\n",
       "      <td>135</td>\n",
       "      <td>2346</td>\n",
       "    </tr>\n",
       "    <tr>\n",
       "      <th>3</th>\n",
       "      <td>Allegra 120mg Tablet</td>\n",
       "      <td>218.81</td>\n",
       "      <td>Sanofi India  Ltd</td>\n",
       "      <td>tablet</td>\n",
       "      <td>fexofenadine</td>\n",
       "      <td>120mg</td>\n",
       "      <td>fexofenadine</td>\n",
       "      <td>120mg</td>\n",
       "      <td>5986</td>\n",
       "      <td>63</td>\n",
       "      <td>564</td>\n",
       "      <td>373</td>\n",
       "      <td>1258</td>\n",
       "      <td>1141</td>\n",
       "    </tr>\n",
       "    <tr>\n",
       "      <th>4</th>\n",
       "      <td>Avil 25 Tablet</td>\n",
       "      <td>10.96</td>\n",
       "      <td>Sanofi India  Ltd</td>\n",
       "      <td>tablet</td>\n",
       "      <td>pheniramine</td>\n",
       "      <td>25mg</td>\n",
       "      <td>pheniramine</td>\n",
       "      <td>25mg</td>\n",
       "      <td>5986</td>\n",
       "      <td>63</td>\n",
       "      <td>1083</td>\n",
       "      <td>642</td>\n",
       "      <td>2277</td>\n",
       "      <td>2039</td>\n",
       "    </tr>\n",
       "  </tbody>\n",
       "</table>\n",
       "</div>"
      ],
      "text/plain": [
       "                       name  price(₹)                     manufacturer_name  \\\n",
       "0  Augmentin 625 Duo Tablet    223.42  Glaxo SmithKline Pharmaceuticals Ltd   \n",
       "1       Azithral 500 Tablet    132.36           Alembic Pharmaceuticals Ltd   \n",
       "2          Ascoril LS Syrup    118.00          Glenmark Pharmaceuticals Ltd   \n",
       "3      Allegra 120mg Tablet    218.81                     Sanofi India  Ltd   \n",
       "4            Avil 25 Tablet     10.96                     Sanofi India  Ltd   \n",
       "\n",
       "     type  primary_comp     value                    entire_comp  \\\n",
       "0  tablet   amoxycillin     500mg  amoxycillin   clavulanic acid   \n",
       "1  tablet  azithromycin     500mg                  azithromycin    \n",
       "2   syrup      ambroxol  30mg/5ml       ambroxol  levosalbutamol   \n",
       "3  tablet  fexofenadine     120mg                  fexofenadine    \n",
       "4  tablet   pheniramine      25mg                   pheniramine    \n",
       "\n",
       "       entire_value  manufacturer_name_encoded  type_encoded  \\\n",
       "0       500mg 125mg                       2763            63   \n",
       "1            500mg                         356            63   \n",
       "2  30mg/5ml 1mg/5ml                       2770            61   \n",
       "3            120mg                        5986            63   \n",
       "4             25mg                        5986            63   \n",
       "\n",
       "   primary_comp_encoded  value_encoded  entire_comp_encoded  \\\n",
       "0                    76            904                  185   \n",
       "1                   121            904                  297   \n",
       "2                    60            733                  135   \n",
       "3                   564            373                 1258   \n",
       "4                  1083            642                 2277   \n",
       "\n",
       "   entire_value_encoded  \n",
       "0                  2828  \n",
       "1                  2815  \n",
       "2                  2346  \n",
       "3                  1141  \n",
       "4                  2039  "
      ]
     },
     "execution_count": 91,
     "metadata": {},
     "output_type": "execute_result"
    }
   ],
   "source": [
    "data.head(5)"
   ]
  },
  {
   "cell_type": "code",
   "execution_count": 92,
   "metadata": {},
   "outputs": [
    {
     "data": {
      "text/plain": [
       "Index(['name', 'price(₹)', 'manufacturer_name', 'type', 'primary_comp',\n",
       "       'value', 'entire_comp', 'entire_value', 'manufacturer_name_encoded',\n",
       "       'type_encoded', 'primary_comp_encoded', 'value_encoded',\n",
       "       'entire_comp_encoded', 'entire_value_encoded'],\n",
       "      dtype='object')"
      ]
     },
     "execution_count": 92,
     "metadata": {},
     "output_type": "execute_result"
    }
   ],
   "source": [
    "data.columns"
   ]
  },
  {
   "cell_type": "code",
   "execution_count": 93,
   "metadata": {},
   "outputs": [],
   "source": [
    "weightage = {\n",
    "    'price(₹)': 0.5,\n",
    "    'manufacturer_name_encoded': 0.2,\n",
    "    'type_encoded' : 1, \n",
    "    'primary_comp_encoded' : 0.7, \n",
    "    'value_encoded' : 0.7,\n",
    "    'entire_comp_encoded' : 1, \n",
    "    'entire_value_encoded': 1\n",
    "}"
   ]
  },
  {
   "cell_type": "code",
   "execution_count": 101,
   "metadata": {},
   "outputs": [],
   "source": [
    "#scaling\n",
    "from sklearn.preprocessing import StandardScaler\n",
    "features = ['price(₹)', 'manufacturer_name_encoded', 'type_encoded', 'primary_comp_encoded', \n",
    "            'value_encoded', 'entire_comp_encoded', 'entire_value_encoded']\n",
    "scaler = StandardScaler()\n",
    "scaled_data = scaler.fit_transform(data[features])\n",
    "\n",
    "scaled_data = pd.DataFrame(scaled_data, columns= features)\n"
   ]
  },
  {
   "cell_type": "code",
   "execution_count": 100,
   "metadata": {},
   "outputs": [],
   "source": [
    "#similarity matrix\n",
    "from sklearn.metrics.pairwise import cosine_similarity\n",
    "\n",
    "def calculate_price_similarity(price1, price2):\n",
    "    price1 = np.array(price1).reshape(1, -1)\n",
    "    price2 = np.array(price2).reshape(1, -1)\n",
    "    similarity = cosine_similarity(price1, price2)\n",
    "    return similarity[0][0]\n",
    "\n",
    "def calculate_text_similarity(value1, value2):\n",
    "    similarity = cosine_similarity(value1, value2)\n",
    "    return similarity[0][0]"
   ]
  },
  {
   "cell_type": "code",
   "execution_count": 102,
   "metadata": {},
   "outputs": [],
   "source": [
    "def calculate_price_similarity(price1, price2):\n",
    "    price1 = np.array([[price1]])\n",
    "    price2 = np.array([[price2]])\n",
    "    similarity = cosine_similarity(price1, price2)\n",
    "    return similarity[0][0]\n",
    "\n",
    "# Calculate similarity between two encoded text features\n",
    "def calculate_text_similarity(value1, value2):\n",
    "    value1 = np.array(value1).reshape(1, -1)\n",
    "    value2 = np.array(value2).reshape(1, -1)\n",
    "    similarity = cosine_similarity(value1, value2)\n",
    "    return similarity[0][0]\n",
    "\n",
    "# Calculate weighted similarity between two medicines\n",
    "def calculate_weighted_similarity(medicine1, medicine2):\n",
    "    similarity_scores = []\n",
    "    for column, weight in weightage.items():\n",
    "        if column == 'price(₹)':\n",
    "            similarity = calculate_price_similarity(medicine1[column], medicine2[column])\n",
    "        else:\n",
    "            similarity = calculate_text_similarity(medicine1[column], medicine2[column])\n",
    "        similarity_scores.append(similarity * weight)\n",
    "    weighted_similarity = sum(similarity_scores)\n",
    "    return weighted_similarity"
   ]
  },
  {
   "cell_type": "code",
   "execution_count": 103,
   "metadata": {},
   "outputs": [
    {
     "name": "stdout",
     "output_type": "stream",
     "text": [
      "Weighted Similarity: 5.1\n"
     ]
    }
   ],
   "source": [
    "medicine1 = data.iloc[46959]  # Example medicine 1\n",
    "medicine2 = data.iloc[47923]  # Example medicine 2\n",
    "\n",
    "weighted_similarity = calculate_weighted_similarity(medicine1, medicine2)\n",
    "print(\"Weighted Similarity:\", weighted_similarity)"
   ]
  },
  {
   "cell_type": "code",
   "execution_count": 104,
   "metadata": {},
   "outputs": [
    {
     "name": "stdout",
     "output_type": "stream",
     "text": [
      "                              name  price(₹)  \\\n",
      "0         Augmentin 625 Duo Tablet    223.42   \n",
      "1              Azithral 500 Tablet    132.36   \n",
      "2                 Ascoril LS Syrup    118.00   \n",
      "3             Allegra 120mg Tablet    218.81   \n",
      "4                   Avil 25 Tablet     10.96   \n",
      "5                 Allegra-M Tablet    241.48   \n",
      "6             Amoxyclav 625 Tablet    223.27   \n",
      "7                  Azee 500 Tablet    132.38   \n",
      "8               Atarax 25mg Tablet     85.50   \n",
      "9  Ascoril D Plus Syrup Sugar Free    129.00   \n",
      "\n",
      "                      manufacturer_name    type   primary_comp     value  \\\n",
      "0  Glaxo SmithKline Pharmaceuticals Ltd  tablet    amoxycillin     500mg   \n",
      "1           Alembic Pharmaceuticals Ltd  tablet   azithromycin     500mg   \n",
      "2          Glenmark Pharmaceuticals Ltd   syrup       ambroxol  30mg/5ml   \n",
      "3                     Sanofi India  Ltd  tablet   fexofenadine     120mg   \n",
      "4                     Sanofi India  Ltd  tablet    pheniramine      25mg   \n",
      "5                     Sanofi India  Ltd  tablet    montelukast      10mg   \n",
      "6                                Abbott  tablet    amoxycillin     500mg   \n",
      "7                             Cipla Ltd  tablet   azithromycin     500mg   \n",
      "8           Dr Reddy's Laboratories Ltd  tablet    hydroxyzine      25mg   \n",
      "9          Glenmark Pharmaceuticals Ltd   syrup  phenylephrine       5mg   \n",
      "\n",
      "                               entire_comp      entire_value  \\\n",
      "0            amoxycillin   clavulanic acid       500mg 125mg   \n",
      "1                            azithromycin             500mg    \n",
      "2                 ambroxol  levosalbutamol  30mg/5ml 1mg/5ml   \n",
      "3                            fexofenadine             120mg    \n",
      "4                             pheniramine              25mg    \n",
      "5                montelukast  fexofenadine        10mg 120mg   \n",
      "6            amoxycillin   clavulanic acid       500mg 125mg   \n",
      "7                            azithromycin             500mg    \n",
      "8                             hydroxyzine              25mg    \n",
      "9  phenylephrine  chlorpheniramine maleate           5mg 2mg   \n",
      "\n",
      "   manufacturer_name_encoded  type_encoded  primary_comp_encoded  \\\n",
      "0                       2763            63                    76   \n",
      "1                        356            63                   121   \n",
      "2                       2770            61                    60   \n",
      "3                       5986            63                   564   \n",
      "4                       5986            63                  1083   \n",
      "5                       5986            63                   931   \n",
      "6                         89            63                    76   \n",
      "7                       1618            63                   121   \n",
      "8                       2108            63                   680   \n",
      "9                       2770            61                  1089   \n",
      "\n",
      "   value_encoded  entire_comp_encoded  entire_value_encoded  \n",
      "0            904                  185                  2828  \n",
      "1            904                  297                  2815  \n",
      "2            733                  135                  2346  \n",
      "3            373                 1258                  1141  \n",
      "4            642                 2277                  2039  \n",
      "5            331                 1978                   993  \n",
      "6            904                  185                  2828  \n",
      "7            904                  297                  2815  \n",
      "8            642                 1490                  2039  \n",
      "9            950                 2287                  3092  \n"
     ]
    }
   ],
   "source": [
    "def get_top_n_similar_medicines(df, target_medicine_index, n=10):\n",
    "    target_medicine = df.iloc[target_medicine_index]\n",
    "    similarities = []\n",
    "\n",
    "    for index, medicine in df.iterrows():\n",
    "        if index != target_medicine_index:  # Skip the target medicine itself\n",
    "            similarity = calculate_weighted_similarity(target_medicine, medicine)\n",
    "            similarities.append((index, similarity))\n",
    "\n",
    "    # Sort the list of tuples based on similarity score in descending order\n",
    "    similarities = sorted(similarities, key=lambda x: x[1], reverse=True)\n",
    "\n",
    "    # Extract the indices of the top N similar medicines\n",
    "    top_n_indices = [index for index, similarity in similarities[:n]]\n",
    "\n",
    "    # Return the top N similar medicines\n",
    "    return df.iloc[top_n_indices]\n",
    "\n",
    "# Example usage to find top 10 similar medicines for the first medicine in the dataset\n",
    "top_similar_medicines = get_top_n_similar_medicines(data, 765, n=10)\n",
    "print(top_similar_medicines)"
   ]
  }
 ],
 "metadata": {
  "kernelspec": {
   "display_name": "Python 3",
   "language": "python",
   "name": "python3"
  },
  "language_info": {
   "codemirror_mode": {
    "name": "ipython",
    "version": 3
   },
   "file_extension": ".py",
   "mimetype": "text/x-python",
   "name": "python",
   "nbconvert_exporter": "python",
   "pygments_lexer": "ipython3",
   "version": "3.10.11"
  }
 },
 "nbformat": 4,
 "nbformat_minor": 2
}
